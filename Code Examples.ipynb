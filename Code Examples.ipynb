{
 "cells": [
  {
   "cell_type": "code",
   "execution_count": null,
   "metadata": {},
   "outputs": [],
   "source": [
    "#Code Examples for Group 3:\n",
    "\n",
    "#Input statements, strings, floats, intergers:\n",
    "people = int(input(\"How many people are dining?\"))\n",
    "check_total = float(input(\"What is the total amount of the check? \"))\n",
    "\n",
    "\n",
    "#Conditionals: If, then, statements\n",
    "age = int(input('Enter your age: '))\n",
    "if age > 18: \n",
    "    print('You can vote.')\n",
    "else: \n",
    "    print('You cannot vote.')\n",
    "if age >= 65:\n",
    "    print('You can retire.')\n",
    "else: \n",
    "    print('You cannot retire.')\n",
    "    \n",
    "    \n",
    "#Iterations, probaly need a for loop\n",
    "i = 1\n",
    "num = int(input('Enter number to mulitply by: '))\n",
    "for i in range (1,11):\n",
    "   print(num,'x',i,'=',num*i) \n",
    "\n",
    "#Lists:\n",
    "def add_item(shopping_list):\n",
    "    #todo write code here\n",
    "    new_item = input(\"Enter a new item to add to your shopping list: \")\n",
    "    if new_item in shopping_list:\n",
    "        print('Cannot add item because it is already in list')\n",
    "    else:\n",
    "        shopping_list.append(new_item)\n",
    "        print('You added', new_item, 'to your shopping list: ', shopping_list)\n",
    "    return shopping_list\n",
    "##\n",
    "shopping_list = {}\n",
    "user_product = input(\"Enter product name or enter 'checkout:' \")\n",
    "product_price = int(input(\"Enter price: \"))\n",
    "product_quant = int(input(\"Enter quantity: \"))\n",
    "total_price = product_price * product_quant\n",
    "\n"
   ]
  }
 ],
 "metadata": {
  "kernelspec": {
   "display_name": "Python 3",
   "language": "python",
   "name": "python3"
  },
  "language_info": {
   "codemirror_mode": {
    "name": "ipython",
    "version": 3
   },
   "file_extension": ".py",
   "mimetype": "text/x-python",
   "name": "python",
   "nbconvert_exporter": "python",
   "pygments_lexer": "ipython3",
   "version": "3.6.6"
  }
 },
 "nbformat": 4,
 "nbformat_minor": 2
}
